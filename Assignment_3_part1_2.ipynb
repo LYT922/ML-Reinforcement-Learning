{
 "cells": [
  {
   "cell_type": "code",
   "execution_count": 88,
   "id": "932df6f7",
   "metadata": {},
   "outputs": [],
   "source": [
    "import gym\n",
    "from gym import spaces\n",
    "import numpy as np\n",
    "import time\n",
    "import matplotlib.pyplot as plt\n",
    "import time"
   ]
  },
  {
   "cell_type": "markdown",
   "id": "ac41950b",
   "metadata": {},
   "source": [
    "# PART I"
   ]
  },
  {
   "cell_type": "markdown",
   "id": "425293b3",
   "metadata": {},
   "source": [
    "The environment that we defined is called the \"GameEnv\". It is a 4x4 grid world where the agent moves around to collect rewards, avoid pitfalls, and reach the goal to collect a final reward."
   ]
  },
  {
   "cell_type": "markdown",
   "id": "84a9abd8",
   "metadata": {},
   "source": [
    "**Actions**\n",
    "\n",
    "The agent has 4 possible actions:\n",
    "\n",
    "- Move right\n",
    "- Move left\n",
    "- Move up\n",
    "- Move down\n",
    "\n",
    "**States**\n",
    "\n",
    "The states are represented by a 4x4 grid where each cell can have one of the following values:\n",
    "\n",
    "+ 1 if the agent is present in that cell\n",
    "+ 0.8 if the cell contains the target goal position\n",
    "+ 0.6 if the cell contains the +5 gold coin\n",
    "+ 0.4 if the cell contains the +4 gold coin\n",
    "+ 0.2 if the cell contains the -7 pitfall\n",
    "+ 0.1 if the cell contains the -6 pitfall\n",
    "\n",
    "**Rewards**\n",
    "\n",
    "The agent receives different rewards based on the state it moves to after taking an action:\n",
    "\n",
    "- +10 if the agent reaches the target goal position\n",
    "- +5 or +4 if the agent reaches the respective gold coins\n",
    "- -7 or -6 if the agent enters the respective pitfalls\n",
    "\n",
    "**Objective**\n",
    "\n",
    "The main objective of the agent is to navigate through the grid world and reach the target goal position while collecting the largest possible reward.\n"
   ]
  },
  {
   "cell_type": "code",
   "execution_count": 116,
   "id": "492c0ece",
   "metadata": {},
   "outputs": [],
   "source": [
    "class GameEnv(gym.Env):\n",
    "    metadata = {'render.modes': ['human']}\n",
    "\n",
    "    def __init__(self):\n",
    "        self.action_space = spaces.Discrete(4) \n",
    "        self.observation_space = spaces.Discrete(16)  \n",
    "        self.max_timesteps = 20\n",
    "        \n",
    "        \n",
    "    def step(self, action):\n",
    "\n",
    "        #self.state = np.random.choice(self.observation_space.n)\n",
    "        done = False # initialize done to False\n",
    "        if action == 0:\n",
    "            self.agent_pos[0] += 1  #down\n",
    "        if action == 1:\n",
    "            self.agent_pos[0] -= 1  #up\n",
    "        if action == 2:\n",
    "            self.agent_pos[1] += 1  #right\n",
    "        if action == 3:\n",
    "            self.agent_pos[1] -= 1  #left\n",
    "\n",
    "        self.agent_pos = np.clip(self.agent_pos, 0, 3)\n",
    "        self.state = np.zeros((4,4))     \n",
    "        self.state[tuple(self.goal_pos)] = 0.8\n",
    "        self.state[tuple(self.coin1_pos)] = 0.6\n",
    "        self.state[tuple(self.coin2_pos)] = 0.5\n",
    "        self.state[tuple(self.pit1_pos)] = 0.2\n",
    "        self.state[tuple(self.pit2_pos)] = 0.1\n",
    "        self.state[tuple(self.agent_pos)] = 1.0\n",
    "\n",
    "        observation = self.state.flatten()\n",
    "        \n",
    "        reward = 0\n",
    "        if (self.agent_pos == self.goal_pos).all():\n",
    "            reward = 10 #Target position: Given max reward if it reaches target\n",
    "            done = True   #stops the agent from continuing to move (terminal state)\n",
    "            print(\"\\nTerminal State reached!\\n\")\n",
    "\n",
    "        elif (self.agent_pos == self.pit1_pos).all():\n",
    "            reward = -7 #A negative reward of -6 if it enters pitfall\n",
    "\n",
    "        elif (self.agent_pos == self.pit2_pos).all():\n",
    "            reward = -6 #A negative reward of -6 if it enters pitfall\n",
    "            \n",
    "        elif (self.agent_pos == self.coin1_pos).all():\n",
    "            reward = +5 #A reward of +5\n",
    "            \n",
    "        elif (self.agent_pos == self.coin2_pos).all():\n",
    "            reward = +4 #A reward of +5\n",
    "\n",
    "            \n",
    "        self.timestep += 1\n",
    "        if self.timestep >= self.max_timesteps:\n",
    "            done = True\n",
    "        info = {}\n",
    "        return observation, reward, done, info\n",
    "    \n",
    "\n",
    "\n",
    "    def reset(self):\n",
    "        \n",
    "        self.timestep = 0\n",
    "        self.state = np.zeros((4,4))\n",
    "        self.agent_pos = [0,0]\n",
    "        self.goal_pos = [3,3]       \n",
    "        self.pit1_pos = [2,0]\n",
    "        self.pit2_pos = [2,3]\n",
    "        self.coin1_pos = [1,1]\n",
    "        self.coin2_pos = [1,3] \n",
    "\n",
    "        \n",
    "        self.state[tuple(self.agent_pos)] = 1.0\n",
    "        self.state[tuple(self.goal_pos)] = 0.8\n",
    "        self.state[tuple(self.coin1_pos)] = 0.6\n",
    "        self.state[tuple(self.coin2_pos)] = 0.4\n",
    "        self.state[tuple(self.pit1_pos)] = 0.2\n",
    "        self.state[tuple(self.pit2_pos)] = 0.1\n",
    "        observation = self.state.flatten()\n",
    "        return observation\n",
    "\n",
    "    def render(self):\n",
    "        plt.imshow(self.state)\n",
    "       "
   ]
  },
  {
   "cell_type": "code",
   "execution_count": 117,
   "id": "11c97cbd",
   "metadata": {},
   "outputs": [],
   "source": [
    "class RandomAgent:\n",
    "    def __init__(self, env):\n",
    "        self.env = env\n",
    "        self.observation_space = env.observation_space\n",
    "        self.action_space = env.action_space\n",
    "    \n",
    "    def step(self, observation):\n",
    "        return np.random.choice(self.action_space.n)"
   ]
  },
  {
   "cell_type": "code",
   "execution_count": 118,
   "id": "3914ae48",
   "metadata": {},
   "outputs": [
    {
     "data": {
      "image/png": "[encoded data removed]",
      "text/plain": [
       "<Figure size 640x480 with 1 Axes>"
      ]
     },
     "metadata": {},
     "output_type": "display_data"
    }
   ],
   "source": [
    "envview = GameEnv()\n",
    "envview.reset()\n",
    "envview.render()"
   ]
  },
  {
   "cell_type": "code",
   "execution_count": 125,
   "id": "90a8b2bd",
   "metadata": {
    "scrolled": false
   },
   "outputs": [
    {
     "name": "stdout",
     "output_type": "stream",
     "text": [
      "Step 1\n",
      "Chosen action:  1 (Up)\n",
      "Observation:  [1.  0.  0.  0.  0.  0.6 0.  0.5 0.2 0.  0.  0.1 0.  0.  0.  0.8]\n",
      "Reward:  0 \n",
      "\n",
      "Step 2\n",
      "Chosen action:  2 (Right)\n",
      "Observation:  [0.  1.  0.  0.  0.  0.6 0.  0.5 0.2 0.  0.  0.1 0.  0.  0.  0.8]\n",
      "Reward:  0 \n",
      "\n",
      "Step 3\n",
      "Chosen action:  2 (Right)\n",
      "Observation:  [0.  0.  1.  0.  0.  0.6 0.  0.5 0.2 0.  0.  0.1 0.  0.  0.  0.8]\n",
      "Reward:  0 \n",
      "\n",
      "Step 4\n",
      "Chosen action:  3 (Left)\n",
      "Observation:  [0.  1.  0.  0.  0.  0.6 0.  0.5 0.2 0.  0.  0.1 0.  0.  0.  0.8]\n",
      "Reward:  0 \n",
      "\n",
      "Step 5\n",
      "Chosen action:  2 (Right)\n",
      "Observation:  [0.  0.  1.  0.  0.  0.6 0.  0.5 0.2 0.  0.  0.1 0.  0.  0.  0.8]\n",
      "Reward:  0 \n",
      "\n",
      "Step 6\n",
      "Chosen action:  2 (Right)\n",
      "Observation:  [0.  0.  0.  1.  0.  0.6 0.  0.5 0.2 0.  0.  0.1 0.  0.  0.  0.8]\n",
      "Reward:  0 \n",
      "\n",
      "Step 7\n",
      "Chosen action:  0 (Down)\n",
      "Observation:  [0.  0.  0.  0.  0.  0.6 0.  1.  0.2 0.  0.  0.1 0.  0.  0.  0.8]\n",
      "Reward:  4 \n",
      "\n",
      "Step 8\n",
      "Chosen action:  0 (Down)\n",
      "Observation:  [0.  0.  0.  0.  0.  0.6 0.  0.5 0.2 0.  0.  1.  0.  0.  0.  0.8]\n",
      "Reward:  -6 \n",
      "\n",
      "Step 9\n",
      "Chosen action:  3 (Left)\n",
      "Observation:  [0.  0.  0.  0.  0.  0.6 0.  0.5 0.2 0.  1.  0.1 0.  0.  0.  0.8]\n",
      "Reward:  0 \n",
      "\n",
      "Step 10\n",
      "Chosen action:  0 (Down)\n",
      "Observation:  [0.  0.  0.  0.  0.  0.6 0.  0.5 0.2 0.  0.  0.1 0.  0.  1.  0.8]\n",
      "Reward:  0 \n",
      "\n",
      "Step 11\n",
      "Chosen action:  2 (Right)\n",
      "\n",
      "Terminal State reached!\n",
      "\n",
      "Observation:  [0.  0.  0.  0.  0.  0.6 0.  0.5 0.2 0.  0.  0.1 0.  0.  0.  1. ]\n",
      "Reward:  10 \n",
      "\n",
      "Total Reward: 8\n"
     ]
    },
    {
     "data": {
      "image/png": "[encoded data removed]",
      "text/plain": [
       "<Figure size 640x480 with 1 Axes>"
      ]
     },
     "metadata": {},
     "output_type": "display_data"
    }
   ],
   "source": [
    "envtest = GameEnv()\n",
    "envtest.reset()\n",
    "\n",
    "agent = RandomAgent(envtest)\n",
    "\n",
    "obs = envtest.reset()\n",
    "done = False\n",
    "step_labels={0: \"(Down)\", 1:\"(Up)\", 2: \"(Right)\", 3:\"(Left)\"}\n",
    "\n",
    "rwd=0\n",
    "step=0\n",
    "while not done:\n",
    "    step=step+1\n",
    "    print(\"Step\",step)\n",
    "    action = agent.step(obs)\n",
    "    print(\"Chosen action: \", action, step_labels[action])\n",
    "    observation, reward, done, info = envtest.step(action)\n",
    "    rwd+=reward\n",
    "    print(\"Observation: \", observation)\n",
    "    print(\"Reward: \", reward,'\\n')\n",
    "    envtest.render()\n",
    "    \n",
    "print(\"Total Reward:\", rwd)\n"
   ]
  },
  {
   "cell_type": "markdown",
   "id": "ee782728",
   "metadata": {},
   "source": [
    "# PART 2"
   ]
  },
  {
   "cell_type": "code",
   "execution_count": 104,
   "id": "7b05223e",
   "metadata": {},
   "outputs": [],
   "source": [
    "#https://www.geeksforgeeks.org/sarsa-reinforcement-learning/#\n",
    "\n",
    "env = GameEnv()\n",
    "epsilon = 0.9\n",
    "total_episodes = 1000\n",
    "max_steps = 100\n",
    "alpha = 0.85\n",
    "gamma = 0.95\n",
    "\n"
   ]
  },
  {
   "cell_type": "code",
   "execution_count": 71,
   "id": "f776aa3c",
   "metadata": {},
   "outputs": [
    {
     "name": "stdout",
     "output_type": "stream",
     "text": [
      "<class 'numpy.ndarray'> [1.  0.  0.  0.  0.  0.6 0.  0.6 0.2 0.  0.  0.2 0.  0.  0.  0.8]\n"
     ]
    },
    {
     "ename": "IndexError",
     "evalue": "arrays used as indices must be of integer (or boolean) type",
     "output_type": "error",
     "traceback": [
      "\u001b[1;31m---------------------------------------------------------------------------\u001b[0m",
      "\u001b[1;31mIndexError\u001b[0m                                Traceback (most recent call last)",
      "Cell \u001b[1;32mIn[71], line 38\u001b[0m\n\u001b[0;32m     35\u001b[0m action2 \u001b[38;5;241m=\u001b[39m choose_action(state2)\n\u001b[0;32m     37\u001b[0m \u001b[38;5;66;03m#Learning the value funtion\u001b[39;00m\n\u001b[1;32m---> 38\u001b[0m \u001b[43mupdate\u001b[49m\u001b[43m(\u001b[49m\u001b[43mstate1\u001b[49m\u001b[43m,\u001b[49m\u001b[43m \u001b[49m\u001b[43mstate2\u001b[49m\u001b[43m,\u001b[49m\u001b[43m \u001b[49m\u001b[43mreward\u001b[49m\u001b[43m,\u001b[49m\u001b[43m \u001b[49m\u001b[43maction1\u001b[49m\u001b[43m,\u001b[49m\u001b[43m \u001b[49m\u001b[43maction2\u001b[49m\u001b[43m)\u001b[49m\n\u001b[0;32m     40\u001b[0m state1 \u001b[38;5;241m=\u001b[39m state2\n\u001b[0;32m     41\u001b[0m action1 \u001b[38;5;241m=\u001b[39m action2\n",
      "Cell \u001b[1;32mIn[71], line 13\u001b[0m, in \u001b[0;36mupdate\u001b[1;34m(state, state2, reward, action, action2)\u001b[0m\n\u001b[0;32m     12\u001b[0m \u001b[38;5;28;01mdef\u001b[39;00m \u001b[38;5;21mupdate\u001b[39m(state, state2, reward, action, action2):\n\u001b[1;32m---> 13\u001b[0m     predict \u001b[38;5;241m=\u001b[39m \u001b[43mV\u001b[49m\u001b[43m[\u001b[49m\u001b[43mstate\u001b[49m\u001b[43m]\u001b[49m[action]\n\u001b[0;32m     14\u001b[0m     target \u001b[38;5;241m=\u001b[39m reward \u001b[38;5;241m+\u001b[39m gamma \u001b[38;5;241m*\u001b[39m V[state2][action2]\n\u001b[0;32m     15\u001b[0m     V[state][action] \u001b[38;5;241m=\u001b[39m V[state][action] \u001b[38;5;241m+\u001b[39m alpha \u001b[38;5;241m*\u001b[39m (target \u001b[38;5;241m-\u001b[39m predict)\n",
      "\u001b[1;31mIndexError\u001b[0m: arrays used as indices must be of integer (or boolean) type"
     ]
    },
    {
     "data": {
      "image/png": "[encoded data removed]",
      "text/plain": [
       "<Figure size 640x480 with 1 Axes>"
      ]
     },
     "metadata": {},
     "output_type": "display_data"
    }
   ],
   "source": [
    "#Initializing the value function\n",
    "V = np.zeros((env.observation_space.n, env.action_space.n))\n",
    "\n",
    "def greedyEp(state):\n",
    "    action=0\n",
    "    if np.random.uniform(0, 1) < epsilon:\n",
    "        action = np.random.choice(env.action_space.n)\n",
    "    else:\n",
    "        action = np.argmax(V[state][:])\n",
    "    return action\n",
    "\n",
    "def update(state, state2, reward, action, action2):\n",
    "    predict = V[state][action]\n",
    "    target = reward + gamma * V[state2][action2]\n",
    "    V[state][action] = V[state][action] + alpha * (target - predict)\n",
    "    \n",
    "#Initializing the reward\n",
    "reward=0\n",
    " \n",
    "# Starting the SARSA learning\n",
    "for episode in range(total_episodes):\n",
    "    t = 0\n",
    "    state1 = env.reset()\n",
    "    print(type(state1), state1)\n",
    "    action1 = choose_action(state1)\n",
    " \n",
    "    while t < max_steps:\n",
    "        #Visualizing the training\n",
    "        env.render()\n",
    "         \n",
    "        #Getting the next state\n",
    "        state2, reward, done, info= env.step(action1)\n",
    " \n",
    "        #Choosing the next action\n",
    "        action2 = choose_action(state2)\n",
    "         \n",
    "        #Learning the value funtion\n",
    "        update(state1, state2, reward, action1, action2)\n",
    " \n",
    "        state1 = state2\n",
    "        action1 = action2\n",
    "         \n",
    "        #Updating the respective vaLues\n",
    "        t += 1\n",
    "        reward += 1\n",
    "         \n",
    "        #If at the end of learning process\n",
    "        if done:\n",
    "            break\n"
   ]
  },
  {
   "cell_type": "code",
   "execution_count": null,
   "id": "4c0f8bb1",
   "metadata": {},
   "outputs": [],
   "source": []
  }
 ],
 "metadata": {
  "kernelspec": {
   "display_name": "Python 3 (ipykernel)",
   "language": "python",
   "name": "python3"
  },
  "language_info": {
   "codemirror_mode": {
    "name": "ipython",
    "version": 3
   },
   "file_extension": ".py",
   "mimetype": "text/x-python",
   "name": "python",
   "nbconvert_exporter": "python",
   "pygments_lexer": "ipython3",
   "version": "3.8.16"
  }
 },
 "nbformat": 4,
 "nbformat_minor": 5
}
