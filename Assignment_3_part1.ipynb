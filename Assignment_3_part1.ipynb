{
 "cells": [
  {
   "cell_type": "code",
   "execution_count": 34,
   "id": "932df6f7",
   "metadata": {},
   "outputs": [],
   "source": [
    "import gym\n",
    "from gym import spaces\n",
    "import numpy as np\n",
    "import time\n",
    "import matplotlib.pyplot as plt\n",
    "import time"
   ]
  },
  {
   "cell_type": "markdown",
   "id": "ac41950b",
   "metadata": {},
   "source": [
    "# PART I"
   ]
  },
  {
   "cell_type": "markdown",
   "id": "425293b3",
   "metadata": {},
   "source": [
    "The environment that we defined is called the \"LawnmowerEnv\". It is a 4x4 grid world where the agent (represented by a lawnmower) moves around to collect rewards and avoid obstacles."
   ]
  },
  {
   "cell_type": "markdown",
   "id": "84a9abd8",
   "metadata": {},
   "source": [
    "**Actions**\n",
    "\n",
    "The agent has 4 possible actions:\n",
    "\n",
    "- Move right\n",
    "- Move left\n",
    "- Move up\n",
    "- Move down\n",
    "\n",
    "**States**\n",
    "\n",
    "It is represented by a 4x4 grid where each cell can have one of the following values:\n",
    "\n",
    "+ 1 if the agent is present in that cell\n",
    "+ 0 if the cell is empty\n",
    "+ 0.8 if the cell contains the target goal position\n",
    "+ 0.7 if the cell contains a gold coin\n",
    "+ 0.3 if the cell contains a danger zone 1\n",
    "+ 0.2 if the cell contains a danger zone 2\n",
    "\n",
    "**Rewards**\n",
    "\n",
    "The agent receives different rewards based on the state it transitions to after taking an action:\n",
    "\n",
    "- +20 if the agent reaches the target goal position\n",
    "- +7 if the agent reaches the gold coin \n",
    "- +5 if the agent reaches the gold coin \n",
    "- -4 if the agent enters the danger zone 1 \n",
    "- -6 if the agent enters the danger zone 2 \n",
    "\n",
    "**Objective**\n",
    "\n",
    "The main objective of the agent is to navigate through the grid world and reach the target goal position while collecting rewards and avoiding obstacles.\n",
    "\n"
   ]
  },
  {
   "cell_type": "code",
   "execution_count": 64,
   "id": "492c0ece",
   "metadata": {},
   "outputs": [],
   "source": [
    "import numpy as np\n",
    "import gym\n",
    "from gym import spaces\n",
    "\n",
    "\n",
    "class LawnmowerEnv(gym.Env):\n",
    "    metadata = {'render.modes': ['human']}\n",
    "\n",
    "    def __init__(self):\n",
    "        self.action_space = spaces.Discrete(4) \n",
    "        self.observation_space = spaces.Discrete(16)  \n",
    "        self.max_timesteps = 10\n",
    "        \n",
    "        \n",
    "    def step(self, action):\n",
    "\n",
    "        self.state = np.random.choice(self.observation_space.n)\n",
    "        done = False # initialize done to False\n",
    "        if action == 0:\n",
    "            self.agent_pos[0] += 1\n",
    "        if action == 1:\n",
    "            self.agent_pos[0] -= 1\n",
    "        if action == 2:\n",
    "            self.agent_pos[1] += 1\n",
    "        if action == 3:\n",
    "            self.agent_pos[1] -= 1\n",
    "          \n",
    "        self.agent_pos = np.clip(self.agent_pos, 0, 3)\n",
    "        self.state = np.zeros((4,4))\n",
    "        self.state[tuple(self.agent_pos)] = 1\n",
    "        self.state[tuple(self.goal_pos)] = 0.8\n",
    "        self.state[tuple(self.gold1_pos)] = 0.7\n",
    "        self.state[tuple(self.gold2_pos)] = 0.7\n",
    "        self.state[tuple(self.danger1_pos)] = 0.3\n",
    "        self.state[tuple(self.danger2_pos)] = 0.2\n",
    "        observation = self.state.flatten()\n",
    "        \n",
    "        reward = 0\n",
    "        if (self.agent_pos == self.goal_pos).all():\n",
    "            reward = 20 #Target position: Given max reward if it reaches target\n",
    "            self.done = True\n",
    "\n",
    "        elif (self.agent_pos == self.danger1_pos).all():\n",
    "            reward = -4 #A negative reward -4 if it enters 1st danger position\n",
    "\n",
    "        elif (self.agent_pos == self.danger2_pos).all():\n",
    "            reward = -6 #A negative reward of -6 if it enters 2nd danger position\n",
    "\n",
    "        elif (self.agent_pos == self.gold1_pos).all():\n",
    "            reward = +7 #A reward of +7 at [1,0]\n",
    "\n",
    "        elif (self.agent_pos == self.gold2_pos).all():\n",
    "            reward = +5 #A reward of +5 at [3,1]\n",
    "            \n",
    "            \n",
    "        self.timestep += 1\n",
    "        if self.timestep >= self.max_timesteps:\n",
    "            done = True\n",
    "        info = {}\n",
    "        return observation, reward, done, info\n",
    "    \n",
    "\n",
    "\n",
    "    def reset(self):\n",
    "        \n",
    "        self.timestep = 0\n",
    "        self.state = np.zeros((4,4))\n",
    "        self.agent_pos = [0, 0]\n",
    "        self.goal_pos = [3, 3]       \n",
    "        self.danger1_pos = [2,0] #first danger position (-5)\n",
    "        self.danger2_pos = [1,2] #second danger position (-6)\n",
    "        self.gold1_pos = [1,0] #First positive reward position (+7)\n",
    "        self.gold2_pos = [3,1] #Second positive reward position (+5)\n",
    "\n",
    "        self.state[tuple(self.agent_pos)] = 1\n",
    "        self.state[tuple(self.goal_pos)] = 0.8\n",
    "        self.state[tuple(self.gold1_pos)] = 0.7\n",
    "        self.state[tuple(self.gold2_pos)] = 0.7\n",
    "        self.state[tuple(self.danger1_pos)] = 0.3\n",
    "        self.state[tuple(self.danger2_pos)] = 0.3\n",
    "        observation = self.state.flatten()\n",
    "        return observation\n",
    "\n",
    "    def render(self):\n",
    "        plt.imshow(self.state)\n",
    "       "
   ]
  },
  {
   "cell_type": "code",
   "execution_count": 65,
   "id": "11c97cbd",
   "metadata": {},
   "outputs": [],
   "source": [
    "class RandomAgent:\n",
    "    def __init__(self, env):\n",
    "        self.env = env\n",
    "        self.observation_space = env.observation_space\n",
    "        self.action_space = env.action_space\n",
    "    \n",
    "    def step(self, observation):\n",
    "        return np.random.choice(self.action_space.n)"
   ]
  },
  {
   "cell_type": "code",
   "execution_count": 82,
   "id": "90a8b2bd",
   "metadata": {},
   "outputs": [
    {
     "name": "stdout",
     "output_type": "stream",
     "text": [
      "Chosen action:  1\n",
      "Obs:  [1.  0.  0.  0.  0.7 0.  0.3 0.  0.3 0.  0.  0.  0.  0.7 0.  0.8]\n",
      "Reward:  0\n",
      "Chosen action:  1\n",
      "Obs:  [1.  0.  0.  0.  0.7 0.  0.3 0.  0.3 0.  0.  0.  0.  0.7 0.  0.8]\n",
      "Reward:  0\n",
      "Chosen action:  2\n",
      "Obs:  [1.  0.  0.  0.  0.7 0.  0.3 0.  0.3 0.  0.  0.  0.  0.7 0.  0.8]\n",
      "Reward:  0\n",
      "Chosen action:  0\n",
      "Obs:  [1.  0.  0.  0.  0.7 0.  0.3 0.  0.3 0.  0.  0.  0.  0.7 0.  0.8]\n",
      "Reward:  0\n",
      "Chosen action:  2\n",
      "Obs:  [1.  0.  0.  0.  0.7 0.  0.3 0.  0.3 0.  0.  0.  0.  0.7 0.  0.8]\n",
      "Reward:  -6\n",
      "Chosen action:  3\n",
      "Obs:  [1.  0.  0.  0.  0.7 0.  0.3 0.  0.3 0.  0.  0.  0.  0.7 0.  0.8]\n",
      "Reward:  0\n",
      "Chosen action:  1\n",
      "Obs:  [1.  0.  0.  0.  0.7 0.  0.3 0.  0.3 0.  0.  0.  0.  0.7 0.  0.8]\n",
      "Reward:  0\n",
      "Chosen action:  3\n",
      "Obs:  [1.  0.  0.  0.  0.7 0.  0.3 0.  0.3 0.  0.  0.  0.  0.7 0.  0.8]\n",
      "Reward:  0\n",
      "Chosen action:  3\n",
      "Obs:  [1.  0.  0.  0.  0.7 0.  0.3 0.  0.3 0.  0.  0.  0.  0.7 0.  0.8]\n",
      "Reward:  0\n",
      "Chosen action:  3\n",
      "Obs:  [1.  0.  0.  0.  0.7 0.  0.3 0.  0.3 0.  0.  0.  0.  0.7 0.  0.8]\n",
      "Reward:  0\n",
      "Total Reward: -6\n"
     ]
    },
    {
     "data": {
      "image/png": "[encoded data removed]",
      "text/plain": [
       "<Figure size 432x288 with 1 Axes>"
      ]
     },
     "metadata": {
      "needs_background": "light"
     },
     "output_type": "display_data"
    }
   ],
   "source": [
    "env = LawnmowerEnv()\n",
    "env.reset()\n",
    "\n",
    "agent = RandomAgent(env)\n",
    "\n",
    "obs = env.reset()\n",
    "done = False\n",
    "\n",
    "\n",
    "rwd=0\n",
    "while not done:\n",
    "    action = agent.step(obs)\n",
    "    print(\"Chosen action: \", action)\n",
    "    observation, reward, done, info = env.step(action)\n",
    "    rwd+=reward\n",
    "    print(\"Obs: \", obs)\n",
    "    print(\"Reward: \", reward)\n",
    "    env.render()\n",
    "    \n",
    "print(\"Total Reward:\", rwd)\n"
   ]
  },
  {
   "cell_type": "code",
   "execution_count": 83,
   "id": "e2f8437a",
   "metadata": {},
   "outputs": [
    {
     "data": {
      "image/png": "[encoded data removed]",
      "text/plain": [
       "<Figure size 432x288 with 1 Axes>"
      ]
     },
     "metadata": {
      "needs_background": "light"
     },
     "output_type": "display_data"
    }
   ],
   "source": [
    "env = LawnmowerEnv()\n",
    "env.reset()\n",
    "env.render()"
   ]
  },
  {
   "cell_type": "code",
   "execution_count": 75,
   "id": "c0f2f339",
   "metadata": {},
   "outputs": [],
   "source": [
    "\n"
   ]
  },
  {
   "cell_type": "code",
   "execution_count": null,
   "id": "4c81f298",
   "metadata": {},
   "outputs": [],
   "source": []
  },
  {
   "cell_type": "code",
   "execution_count": null,
   "id": "1c8d7a8b",
   "metadata": {},
   "outputs": [],
   "source": []
  }
 ],
 "metadata": {
  "kernelspec": {
   "display_name": "Python 3 (ipykernel)",
   "language": "python",
   "name": "python3"
  },
  "language_info": {
   "codemirror_mode": {
    "name": "ipython",
    "version": 3
   },
   "file_extension": ".py",
   "mimetype": "text/x-python",
   "name": "python",
   "nbconvert_exporter": "python",
   "pygments_lexer": "ipython3",
   "version": "3.9.12"
  }
 },
 "nbformat": 4,
 "nbformat_minor": 5
}
